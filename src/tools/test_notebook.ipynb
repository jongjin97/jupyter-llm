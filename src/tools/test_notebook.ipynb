{
 "cells": [
  {
   "cell_type": "markdown",
   "id": "f92f458d",
   "metadata": {},
   "source": [
    "\n",
    "# 세션 노트북: test_notebook.ipynb\n",
    "\n",
    "이 노트북은 JupyterExecutor가 시작될 때 자동으로 생성되었습니다.\n",
    "작업 내용을 여기에 기록하세요.\n"
   ]
  }
 ],
 "metadata": {},
 "nbformat": 4,
 "nbformat_minor": 5
}
