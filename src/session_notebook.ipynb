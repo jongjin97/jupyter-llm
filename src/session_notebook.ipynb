{
 "cells": [
  {
   "cell_type": "markdown",
   "id": "90dcdcd7",
   "metadata": {},
   "source": [
    "\n",
    "# 세션 노트북: session_notebook.ipynb\n",
    "\n",
    "이 노트북은 JupyterExecutor가 시작될 때 자동으로 생성되었습니다.\n",
    "작업 내용을 여기에 기록하세요.\n"
   ]
  },
  {
   "cell_type": "code",
   "execution_count": null,
   "id": "9a2abba3",
   "metadata": {},
   "outputs": [
    {
     "name": "stdout",
     "output_type": "stream",
     "text": [
      "--- STDOUT ---\n",
      "55"
     ]
    }
   ],
   "source": [
    "print(sum(range(1, 11)))"
   ]
  }
 ],
 "metadata": {},
 "nbformat": 4,
 "nbformat_minor": 5
}
